{
 "cells": [
  {
   "cell_type": "markdown",
   "metadata": {},
   "source": [
    "# 文本匹配"
   ]
  },
  {
   "cell_type": "markdown",
   "metadata": {},
   "source": [
    "https://biendata.com/competition/chip2019/"
   ]
  },
  {
   "cell_type": "code",
   "execution_count": 1,
   "metadata": {},
   "outputs": [],
   "source": [
    "import jieba\n",
    "import gensim\n",
    "import numpy as np\n",
    "import pandas as pd\n",
    "from sklearn.feature_extraction.text import TfidfVectorizer"
   ]
  },
  {
   "cell_type": "markdown",
   "metadata": {},
   "source": [
    "尝试读取训练机文件train.csv"
   ]
  },
  {
   "cell_type": "code",
   "execution_count": 2,
   "metadata": {},
   "outputs": [
    {
     "name": "stdout",
     "output_type": "stream",
     "text": [
      "------ data info (column name, count ) ------\n",
      "<class 'pandas.core.frame.DataFrame'>\n",
      "RangeIndex: 20000 entries, 0 to 19999\n",
      "Data columns (total 4 columns):\n",
      "question1    20000 non-null object\n",
      "question2    20000 non-null object\n",
      "label        20000 non-null int64\n",
      "category     20000 non-null object\n",
      "dtypes: int64(1), object(3)\n",
      "memory usage: 625.1+ KB\n",
      "None\n",
      "\n",
      "\n",
      "------ data describe (count, mean, min, max ...) ------\n",
      "              label\n",
      "count  20000.000000\n",
      "mean       0.500000\n",
      "std        0.500013\n",
      "min        0.000000\n",
      "25%        0.000000\n",
      "50%        0.500000\n",
      "75%        1.000000\n",
      "max        1.000000\n"
     ]
    }
   ],
   "source": [
    "# Read data from files\n",
    "chip2019 = pd.read_csv('train.csv')\n",
    "print('------ data info (column name, count ) ------')\n",
    "print(chip2019.info())\n",
    "print('\\n')\n",
    "print('------ data describe (count, mean, min, max ...) ------')\n",
    "print(chip2019.describe())"
   ]
  },
  {
   "cell_type": "markdown",
   "metadata": {},
   "source": [
    "定义一个利用结巴的分词器"
   ]
  },
  {
   "cell_type": "code",
   "execution_count": 4,
   "metadata": {},
   "outputs": [],
   "source": [
    "# 分词函数，返回分词列表(jieba)\n",
    "# string -> string\n",
    "def trans(x):\n",
    "    x = list(jieba.cut(x))\n",
    "    return \" \".join(x)"
   ]
  },
  {
   "cell_type": "markdown",
   "metadata": {},
   "source": [
    "结巴分词测试"
   ]
  },
  {
   "cell_type": "code",
   "execution_count": 5,
   "metadata": {},
   "outputs": [
    {
     "name": "stderr",
     "output_type": "stream",
     "text": [
      "Building prefix dict from the default dictionary ...\n",
      "Dumping model to file cache /var/folders/4f/59cvb05d53b72qpx5q3tjx1m0000gn/T/jieba.cache\n",
      "Loading model cost 0.609 seconds.\n",
      "Prefix dict has been built succesfully.\n"
     ]
    },
    {
     "name": "stdout",
     "output_type": "stream",
     "text": [
      "王八蛋 老板 黄鹤 和 他 的 小姨子 跑 了\n"
     ]
    }
   ],
   "source": [
    "s = '王八蛋老板黄鹤和他的小姨子跑了'\n",
    "print(trans(s))"
   ]
  },
  {
   "cell_type": "code",
   "execution_count": 6,
   "metadata": {},
   "outputs": [
    {
     "name": "stdout",
     "output_type": "stream",
     "text": [
      "王八蛋 老板 黄鹤 和 他的 小姨子 跑 了\n"
     ]
    }
   ],
   "source": [
    "# \"他的\"合并\n",
    "jieba.suggest_freq('他的', True)\n",
    "print(trans(s))"
   ]
  },
  {
   "cell_type": "markdown",
   "metadata": {},
   "source": [
    "利用结巴分词构建语料库"
   ]
  },
  {
   "cell_type": "code",
   "execution_count": 16,
   "metadata": {},
   "outputs": [
    {
     "name": "stdout",
     "output_type": "stream",
     "text": [
      "0                     艾滋病窗口期会出现腹泻症状吗\n",
      "1                 由于糖尿病引起末梢神经炎，怎么根治？\n",
      "2                    H型高血压，是通所说的高血脂？\n",
      "3                      糖尿病跟尿毒症有什么区别？\n",
      "4        你好，我60岁，患高血压，80135，爱喝酸奶可以吗？\n",
      "                    ...             \n",
      "19995                 高血压人宜吃什么坚果类食物？\n",
      "19996            为什么最近几年乳腺癌的发病率逐年提高呢\n",
      "19997             如果口腔有溃疡艾滋病会通过接吻传染吗\n",
      "19998                 胰岛素注射糖尿病有副作用吗？\n",
      "19999             带安全套和朋友做爱性交会感染艾滋病吗\n",
      "Name: question1, Length: 20000, dtype: object\n"
     ]
    }
   ],
   "source": []
  },
  {
   "cell_type": "code",
   "execution_count": null,
   "metadata": {},
   "outputs": [],
   "source": []
  }
 ],
 "metadata": {
  "kernelspec": {
   "display_name": "Python 3",
   "language": "python",
   "name": "python3"
  },
  "language_info": {
   "codemirror_mode": {
    "name": "ipython",
    "version": 3
   },
   "file_extension": ".py",
   "mimetype": "text/x-python",
   "name": "python",
   "nbconvert_exporter": "python",
   "pygments_lexer": "ipython3",
   "version": "3.7.3"
  }
 },
 "nbformat": 4,
 "nbformat_minor": 2
}
